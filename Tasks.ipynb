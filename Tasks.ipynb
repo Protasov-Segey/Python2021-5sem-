{
 "cells": [
  {
   "cell_type": "markdown",
   "metadata": {},
   "source": [
    "# Задача 2"
   ]
  },
  {
   "cell_type": "code",
   "execution_count": null,
   "metadata": {},
   "outputs": [],
   "source": [
    "import numpy as np\n",
    "\n",
    "def solver(x: np.array, y: np.array):\n",
    "    return np.count_nonzero(x*y), np.count_nonzero(np.absolute(x) + np.absolute(y))\n",
    "\n",
    "def test():\n",
    "    assert solver(np.array([1, 0, 1, 1, 0, 1, 1]), np.array([0, 2, 0, 2, 0, 2, 0])) == (2, 6)\n",
    "    assert solver(np.array([1, 0, 0, 1, 0, 1, 1]), np.array([0, 2, 0, 2, 0, 2, 0])) == (2, 5)\n",
    "    assert solver(np.array([1, 12, 1, 1, 5, -1, 1]), np.array([5, 2, 4, 2, 3, 2, 9])) == (7, 7)\n",
    "    assert solver(np.array([0, 0, 0, 0, 0, 0, 0]), np.array([0, 2, 0, 2, 0, 2, 0])) == (0, 3)\n",
    "\n",
    "if __name__ == \"__main__\":\n",
    "    test()"
   ]
  },
  {
   "cell_type": "markdown",
   "metadata": {},
   "source": [
    "# Задача 3\n"
   ]
  },
  {
   "cell_type": "code",
   "execution_count": null,
   "metadata": {},
   "outputs": [],
   "source": [
    "import numpy as np\n",
    "\n",
    "def list_generator(x: np.array, N: int):\n",
    "    return np.repeat(x, N)\n",
    "\n",
    "if __name__ == \"__main__\":\n",
    "    print(list_generator(np.array([1, 2, 0]), 3))\n",
    "    print(list_generator(np.array([1, 2, 3]), 3))\n",
    "    print(list_generator(np.array([1, 2, 0]), 2))\n",
    "    print(list_generator(np.array([-1, -2, 0]), 5))"
   ]
  }
 ],
 "metadata": {
  "kernelspec": {
   "display_name": "Python 3",
   "language": "python",
   "name": "python3"
  },
  "language_info": {
   "codemirror_mode": {
    "name": "ipython",
    "version": 3
   },
   "file_extension": ".py",
   "mimetype": "text/x-python",
   "name": "python",
   "nbconvert_exporter": "python",
   "pygments_lexer": "ipython3",
   "version": "3.8.5"
  }
 },
 "nbformat": 4,
 "nbformat_minor": 4
}
