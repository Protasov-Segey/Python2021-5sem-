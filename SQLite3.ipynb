{
 "cells": [
  {
   "cell_type": "code",
   "execution_count": 307,
   "metadata": {},
   "outputs": [],
   "source": [
    "import sqlite3\n",
    "from sqlite3 import Error"
   ]
  },
  {
   "cell_type": "code",
   "execution_count": 308,
   "metadata": {},
   "outputs": [
    {
     "data": {
      "text/plain": [
       "<sqlite3.Cursor at 0x2049f08ad50>"
      ]
     },
     "execution_count": 308,
     "metadata": {},
     "output_type": "execute_result"
    }
   ],
   "source": [
    "connection = sqlite3.connect('lib2')\n",
    "\n",
    "cursor = connection.cursor()\n",
    "cursor.execute(\n",
    "    '''\n",
    "    CREATE TABLE Book(\n",
    "        id INT PRIMARY KEY NOT NULL,\n",
    "        title TEXT,\n",
    "        author TEXT,\n",
    "        publish_year INT\n",
    "    )\n",
    "    '''\n",
    ")\n",
    "\n",
    "cursor.execute(\n",
    "    '''\n",
    "    INSERT INTO Book VALUES\n",
    "    (1, 'Harry Potter and the Philosopher''s Stone', 'J. K. Rowling', 1997),\n",
    "    (2, 'Методы решения задач в общем курсе физики, Механика', 'Корявов В.П.', 2007),\n",
    "    (3, 'Batman: Gotham by Gaslight', 'Brian Augustyn, Mike Mignola', 1989),\n",
    "    (4, 'Мёртвые души', 'Н. В. Гоголь', 1842),\n",
    "    (5, 'The Running Man', 'Richard Bachman', 1982)\n",
    "    '''\n",
    ")\n"
   ]
  },
  {
   "cell_type": "code",
   "execution_count": 309,
   "metadata": {},
   "outputs": [
    {
     "data": {
      "text/plain": [
       "<sqlite3.Cursor at 0x2049f08ad50>"
      ]
     },
     "execution_count": 309,
     "metadata": {},
     "output_type": "execute_result"
    }
   ],
   "source": [
    "cursor.execute(\n",
    "    '''\n",
    "    CREATE TABLE Reader(\n",
    "        id INT PRIMARY KEY NOT NULL,\n",
    "        name TEXT\n",
    "    )\n",
    "    '''\n",
    ")\n",
    "\n",
    "cursor.execute(\n",
    "    '''\n",
    "    INSERT INTO Reader VALUES\n",
    "    (1, 'V.V. Petrovich'),\n",
    "    (2, 'Alexanderr'),\n",
    "    (3, 'Arkadiy Svidrigaylov'),\n",
    "    (4, 'Vitalya'),\n",
    "    (5, 'A.S.Pushkin')\n",
    "    '''\n",
    ")\n"
   ]
  },
  {
   "cell_type": "code",
   "execution_count": 310,
   "metadata": {},
   "outputs": [
    {
     "data": {
      "text/plain": [
       "<sqlite3.Cursor at 0x2049f08ad50>"
      ]
     },
     "execution_count": 310,
     "metadata": {},
     "output_type": "execute_result"
    }
   ],
   "source": [
    "cursor.execute(\n",
    "    '''\n",
    "    CREATE TABLE Records(\n",
    "        id INT PRIMARY KEY NOT NULL,\n",
    "        reader_id INT REFERENCES Readers(id) NOT NULL,\n",
    "        book_id INT REFERENCES Books(id) NOT NULL,\n",
    "        taking_date TEXT,\n",
    "        returning_date TEXT\n",
    "    )\n",
    "    '''\n",
    ")\n",
    "\n",
    "cursor.execute(\n",
    "    '''\n",
    "    INSERT INTO Records VALUES\n",
    "    (1, 3, 4, '1842-02-14', '1842-07-01'),\n",
    "    (2, 4, 4, '1996-10-26', 'NULL'),\n",
    "    (3, 1, 2, '2006-06-13', '2006-06-14'),\n",
    "    (4, 1, 1, '2006-06-14', '2006-06-15'),\n",
    "    (5, 1, 3, '2006-06-15', '2006-07-20'),\n",
    "    (6, 2, 5, '1985-10-11', '1987-12-25'),\n",
    "    (7, 5, 3, '2001-03-15', 'NULL'),\n",
    "    (8, 5, 3, '2002-09-19', '2002-09-25')\n",
    "    '''\n",
    ")"
   ]
  },
  {
   "cell_type": "code",
   "execution_count": 311,
   "metadata": {},
   "outputs": [],
   "source": [
    "connection.commit()\n",
    "connection.close()"
   ]
  },
  {
   "cell_type": "markdown",
   "metadata": {},
   "source": [
    "Здесь под списком книг я понимается именно названия этих книг(хотя в принципе можно вывести полную информацию о книгах). Аналогично про читателей - только их записанные \"имена\"."
   ]
  },
  {
   "cell_type": "code",
   "execution_count": 312,
   "metadata": {},
   "outputs": [
    {
     "name": "stdout",
     "output_type": "stream",
     "text": [
      "(\"Harry Potter and the Philosopher's Stone\",)\n",
      "('Методы решения задач в общем курсе физики, Механика',)\n",
      "('Batman: Gotham by Gaslight',)\n",
      "('Мёртвые души',)\n",
      "('The Running Man',)\n"
     ]
    }
   ],
   "source": [
    "def book_selecter():\n",
    "    connection = sqlite3.connect(\"lib2\")\n",
    "    with connection:\n",
    "        for row in connection.execute(\"SELECT title FROM Book\"):\n",
    "            print(row)\n",
    "            \n",
    "book_selecter()"
   ]
  },
  {
   "cell_type": "code",
   "execution_count": 313,
   "metadata": {},
   "outputs": [
    {
     "name": "stdout",
     "output_type": "stream",
     "text": [
      "('V.V. Petrovich',)\n",
      "('Alexanderr',)\n",
      "('Arkadiy Svidrigaylov',)\n",
      "('Vitalya',)\n",
      "('A.S.Pushkin',)\n"
     ]
    }
   ],
   "source": [
    "def reader_selecter():\n",
    "    connection = sqlite3.connect(\"lib2\")\n",
    "    with connection:\n",
    "        for row in connection.execute(\"SELECT name FROM Reader\"):\n",
    "            print(row)\n",
    "\n",
    "reader_selecter()"
   ]
  },
  {
   "cell_type": "markdown",
   "metadata": {},
   "source": [
    "Функция работает так - в неё поступает кортеж с информацией об пользователе/книге, она добавляет её в БД."
   ]
  },
  {
   "cell_type": "code",
   "execution_count": 314,
   "metadata": {},
   "outputs": [],
   "source": [
    "def add_book(book_info):\n",
    "    connection = sqlite3.connect(\"lib2\")\n",
    "    with connection:\n",
    "        connection.execute(\"INSERT OR IGNORE INTO Book VALUES(?, ?, ?, ?)\", book_info)\n",
    "        connection.commit()\n",
    "\n",
    "add_book((6, 'The Veldt', 'Ray Bradbury', 1950))\n",
    "add_book((7, 'KK', 'Ray Bradbury', 1950)) # Лишняя книга "
   ]
  },
  {
   "cell_type": "code",
   "execution_count": 315,
   "metadata": {},
   "outputs": [
    {
     "name": "stdout",
     "output_type": "stream",
     "text": [
      "(\"Harry Potter and the Philosopher's Stone\",)\n",
      "('Методы решения задач в общем курсе физики, Механика',)\n",
      "('Batman: Gotham by Gaslight',)\n",
      "('Мёртвые души',)\n",
      "('The Running Man',)\n",
      "('The Veldt',)\n",
      "('KK',)\n"
     ]
    }
   ],
   "source": [
    "book_selecter()"
   ]
  },
  {
   "cell_type": "markdown",
   "metadata": {},
   "source": [
    "Здесь же сделаем функцию удаления книги (аналогом в обычной библиотеки могут быть списания, утери т.д.)."
   ]
  },
  {
   "cell_type": "code",
   "execution_count": 316,
   "metadata": {},
   "outputs": [],
   "source": [
    "def delete_book(title):\n",
    "    connection = sqlite3.connect(\"lib2\")\n",
    "    with connection:\n",
    "        connection.execute(\"DELETE FROM Book WHERE title=?\", (title,))\n",
    "        connection.commit()\n",
    "\n",
    "delete_book('KK')"
   ]
  },
  {
   "cell_type": "code",
   "execution_count": 317,
   "metadata": {},
   "outputs": [
    {
     "name": "stdout",
     "output_type": "stream",
     "text": [
      "(\"Harry Potter and the Philosopher's Stone\",)\n",
      "('Методы решения задач в общем курсе физики, Механика',)\n",
      "('Batman: Gotham by Gaslight',)\n",
      "('Мёртвые души',)\n",
      "('The Running Man',)\n",
      "('The Veldt',)\n"
     ]
    }
   ],
   "source": [
    "book_selecter()"
   ]
  },
  {
   "cell_type": "code",
   "execution_count": 318,
   "metadata": {},
   "outputs": [],
   "source": [
    "def add_reader(reader_info):\n",
    "    connection = sqlite3.connect(\"lib2\")\n",
    "    with connection:\n",
    "        connection.execute(\"INSERT OR IGNORE INTO Reader VALUES(?, ?)\", reader_info)\n",
    "        connection.commit()\n",
    "\n",
    "add_reader((6, 'Ilya Ilyich Oblomov'))"
   ]
  },
  {
   "cell_type": "code",
   "execution_count": 319,
   "metadata": {},
   "outputs": [
    {
     "name": "stdout",
     "output_type": "stream",
     "text": [
      "('V.V. Petrovich',)\n",
      "('Alexanderr',)\n",
      "('Arkadiy Svidrigaylov',)\n",
      "('Vitalya',)\n",
      "('A.S.Pushkin',)\n",
      "('Ilya Ilyich Oblomov',)\n"
     ]
    }
   ],
   "source": [
    "reader_selecter()"
   ]
  },
  {
   "cell_type": "code",
   "execution_count": 320,
   "metadata": {},
   "outputs": [
    {
     "name": "stdout",
     "output_type": "stream",
     "text": [
      "(1, 3, 4, '1842-02-14', '1842-07-01')\n",
      "(2, 4, 4, '1996-10-26', 'NULL')\n",
      "(3, 1, 2, '2006-06-13', '2006-06-14')\n",
      "(4, 1, 1, '2006-06-14', '2006-06-15')\n",
      "(5, 1, 3, '2006-06-15', '2006-07-20')\n",
      "(6, 2, 5, '1985-10-11', '1987-12-25')\n",
      "(7, 5, 3, '2001-03-15', 'NULL')\n",
      "(8, 5, 3, '2002-09-19', '2002-09-25')\n"
     ]
    }
   ],
   "source": [
    "def record_selecter():\n",
    "    connection = sqlite3.connect(\"lib2\")\n",
    "    with connection:\n",
    "        for row in connection.execute(\"SELECT * FROM Records\"):\n",
    "            print(row)\n",
    "            \n",
    "record_selecter()"
   ]
  },
  {
   "cell_type": "markdown",
   "metadata": {},
   "source": [
    "Хотим выдавать книги:"
   ]
  },
  {
   "cell_type": "code",
   "execution_count": 329,
   "metadata": {},
   "outputs": [],
   "source": [
    "def lend_book(record_info):\n",
    "    connection = sqlite3.connect(\"lib2\")\n",
    "    with connection:\n",
    "        connection.execute(\"INSERT OR IGNORE INTO Records VALUES(?, ?, ?, ?, ?)\", record_info)\n",
    "        connection.commit()\n",
    "        \n",
    "lend_book((9, 6, 6, '2022-03-23', '2022-04-06'))"
   ]
  },
  {
   "cell_type": "code",
   "execution_count": 330,
   "metadata": {},
   "outputs": [
    {
     "name": "stdout",
     "output_type": "stream",
     "text": [
      "(1, 3, 4, '1842-02-14', '1842-07-01')\n",
      "(2, 4, 4, '1996-10-26', 'NULL')\n",
      "(3, 1, 2, '2006-06-13', '2006-06-14')\n",
      "(4, 1, 1, '2006-06-14', '2006-06-15')\n",
      "(5, 1, 3, '2006-06-15', '2006-07-20')\n",
      "(6, 2, 5, '1985-10-11', '1987-12-25')\n",
      "(7, 5, 3, '2001-03-15', 'NULL')\n",
      "(8, 5, 3, '2002-09-19', '2002-09-25')\n",
      "(9, 6, 6, '2022-03-23', '2022-04-06')\n"
     ]
    }
   ],
   "source": [
    "record_selecter()"
   ]
  },
  {
   "cell_type": "markdown",
   "metadata": {},
   "source": [
    "Хотим принимать книги:"
   ]
  },
  {
   "cell_type": "code",
   "execution_count": 331,
   "metadata": {},
   "outputs": [],
   "source": [
    "def accept_record(record_info):\n",
    "    connection = sqlite3.connect(\"lib2\")\n",
    "    with connection:\n",
    "        connection.execute(\"INSERT OR IGNORE INTO Records VALUES(?, ?, ?, ?, ?)\", record_info)\n",
    "        connection.commit()\n",
    "        \n",
    "accept_record((10, 6, 6, '2022-03-25', 'NULL'))"
   ]
  },
  {
   "cell_type": "code",
   "execution_count": 332,
   "metadata": {},
   "outputs": [
    {
     "name": "stdout",
     "output_type": "stream",
     "text": [
      "(1, 3, 4, '1842-02-14', '1842-07-01')\n",
      "(2, 4, 4, '1996-10-26', 'NULL')\n",
      "(3, 1, 2, '2006-06-13', '2006-06-14')\n",
      "(4, 1, 1, '2006-06-14', '2006-06-15')\n",
      "(5, 1, 3, '2006-06-15', '2006-07-20')\n",
      "(6, 2, 5, '1985-10-11', '1987-12-25')\n",
      "(7, 5, 3, '2001-03-15', 'NULL')\n",
      "(8, 5, 3, '2002-09-19', '2002-09-25')\n",
      "(9, 6, 6, '2022-03-23', '2022-04-06')\n",
      "(10, 6, 6, '2022-03-25', 'NULL')\n"
     ]
    }
   ],
   "source": [
    "record_selecter()"
   ]
  },
  {
   "cell_type": "code",
   "execution_count": null,
   "metadata": {},
   "outputs": [],
   "source": []
  }
 ],
 "metadata": {
  "kernelspec": {
   "display_name": "Python 3",
   "language": "python",
   "name": "python3"
  },
  "language_info": {
   "codemirror_mode": {
    "name": "ipython",
    "version": 3
   },
   "file_extension": ".py",
   "mimetype": "text/x-python",
   "name": "python",
   "nbconvert_exporter": "python",
   "pygments_lexer": "ipython3",
   "version": "3.8.5"
  }
 },
 "nbformat": 4,
 "nbformat_minor": 4
}
